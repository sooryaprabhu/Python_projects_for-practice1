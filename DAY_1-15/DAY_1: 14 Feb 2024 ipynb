{
  "nbformat": 4,
  "nbformat_minor": 0,
  "metadata": {
    "colab": {
      "provenance": [],
      "gpuType": "T4"
    },
    "kernelspec": {
      "name": "python3",
      "display_name": "Python 3"
    },
    "language_info": {
      "name": "python"
    },
    "accelerator": "GPU"
  },
  "cells": [
    {
      "cell_type": "code",
      "execution_count": null,
      "metadata": {
        "id": "REQEulv1QvVH"
      },
      "outputs": [],
      "source": []
    },
    {
      "cell_type": "markdown",
      "source": [
        "  **QUIZZ GAME**"
      ],
      "metadata": {
        "id": "PT6WaKYJZ4xO"
      }
    },
    {
      "cell_type": "code",
      "source": [
        "\n",
        "print('Welcome to my computer quiz!')\n",
        "playing=input('Do you want to play?   ')\n",
        "if playing !=\"yes\":\n",
        "  quit()\n",
        "print('ok! lets play')\n",
        "score=0\n",
        "\n",
        "#lower() function convert the capital letter to small letter.\n",
        "answer = input('what does CPU stand for? ')\n",
        "if answer.lower() == 'central processing unit':\n",
        "    print('Correct!')\n",
        "else:\n",
        "    print('Sorry, your answer is incorrect!')\n",
        "\n",
        "answer =input('what the full form of AI ?   ')\n",
        "if answer.lower() =='artificial intelligence':\n",
        "  print('correct!')\n",
        "  score+=1\n",
        "else:\n",
        "  print(' Sorry your answer is incorrect!')\n",
        "\n",
        "answer =input('what does GPU stands for ?   ')\n",
        "if answer.lower() =='graphics processing unit':\n",
        "  print('correct!')\n",
        "  score+=1\n",
        "else:\n",
        "  print(' Sorry your answer is incorrect!')\n",
        "\n",
        "\n",
        "answer =input('what does RAM stands for ?   ')\n",
        "if answer.lower() =='random access memory':\n",
        "  print('correct!')\n",
        "  score+=1\n",
        "\n",
        "else:\n",
        "  print(' Sorry your answer is incorrect!')\n",
        "\n",
        "answer =input('what does PSU stands for ?   ')\n",
        "if answer.lower() =='power supply unit':\n",
        "  print('correct!')\n",
        "  score+=1\n",
        "else:\n",
        "  print(' Sorry your answer is incorrect!')\n",
        "\n",
        "#we can't add score str to a numberator thets why we use str() function to convert score to a string.\n",
        "print(\"You got\"  + str(score)  +'questions correct!')\n",
        "print(\"You got\"  + str((score/5)*100)  + '%')\n",
        "\n"
      ],
      "metadata": {
        "colab": {
          "base_uri": "https://localhost:8080/"
        },
        "id": "hxMih88kRmDu",
        "outputId": "e8c939b5-8c09-40ff-a07f-7d6355cdd672"
      },
      "execution_count": 2,
      "outputs": [
        {
          "output_type": "stream",
          "name": "stdout",
          "text": [
            "Welcome to my computer quiz!\n",
            "Do you want to play?   yes\n",
            "ok! lets play\n",
            "what does CPU stand for? central processing unit\n",
            "Correct!\n",
            "what the full form of AI ?   artificial intelligence\n",
            "correct!\n",
            "what does GPU stands for ?   random access memory\n",
            " Sorry your answer is incorrect!\n",
            "what does RAM stands for ?   random access memory\n",
            "correct!\n",
            "what does PSU stands for ?   power supply unit\n",
            "correct!\n",
            "You got3questions correct!\n",
            "You got60.0%\n"
          ]
        }
      ]
    },
    {
      "cell_type": "code",
      "source": [],
      "metadata": {
        "id": "Ke37I9WRlGaO"
      },
      "execution_count": 2,
      "outputs": []
    }
  ]
}
